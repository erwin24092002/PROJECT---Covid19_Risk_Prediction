{
  "nbformat": 4,
  "nbformat_minor": 0,
  "metadata": {
    "colab": {
      "provenance": []
    },
    "kernelspec": {
      "name": "python3",
      "display_name": "Python 3"
    },
    "language_info": {
      "name": "python"
    }
  },
  "cells": [
    {
      "cell_type": "code",
      "execution_count": 1,
      "metadata": {
        "colab": {
          "base_uri": "https://localhost:8080/"
        },
        "id": "WOcxYKPvNGSU",
        "outputId": "5e8bdbcf-44be-4965-fdd9-512fa6229237"
      },
      "outputs": [
        {
          "output_type": "stream",
          "name": "stdout",
          "text": [
            "Mounted at /content/drive\n"
          ]
        }
      ],
      "source": [
        "from google.colab import drive\n",
        "drive.mount('/content/drive')"
      ]
    },
    {
      "cell_type": "code",
      "source": [
        "import numpy as np\n",
        "import pandas as pd\n",
        "import matplotlib.pyplot as plt\n",
        "import pickle\n",
        "import time\n",
        "\n",
        "from sklearn.metrics import accuracy_score, precision_score, recall_score, f1_score"
      ],
      "metadata": {
        "id": "I-OkpSBKNH8k"
      },
      "execution_count": 2,
      "outputs": []
    },
    {
      "cell_type": "code",
      "source": [
        "%cd /content/drive/MyDrive/Covid"
      ],
      "metadata": {
        "colab": {
          "base_uri": "https://localhost:8080/"
        },
        "id": "saCmL-PuNVau",
        "outputId": "9520f3b2-f52c-4ec9-e6fd-30bfeef21cba"
      },
      "execution_count": 3,
      "outputs": [
        {
          "output_type": "stream",
          "name": "stdout",
          "text": [
            "/content/drive/MyDrive/Covid\n"
          ]
        }
      ]
    },
    {
      "cell_type": "code",
      "source": [
        "from sklearn.naive_bayes import GaussianNB\n",
        "from sklearn.naive_bayes import BernoulliNB\n",
        "from sklearn.naive_bayes import MultinomialNB"
      ],
      "metadata": {
        "id": "hVzPVpH_NitO"
      },
      "execution_count": 4,
      "outputs": []
    },
    {
      "cell_type": "code",
      "source": [
        "for i in range(1, 4):\n",
        "  data_train = pd.read_csv(f'./lan{i}/train.csv')\n",
        "  data_test = pd.read_csv(f'./lan{i}/test.csv')\n",
        "\n",
        "  X_train, y_train = data_train.iloc[:,:-1], data_train.iloc[:,-1]\n",
        "  X_test, y_test = data_test.iloc[:,:-1], data_test.iloc[:,-1]\n",
        "\n",
        "  model = GaussianNB()\n",
        "  start = time.time()\n",
        "  model.fit(X_train, y_train)\n",
        "  print('time = ', time.time()-start)\n",
        "\n",
        "  y_pred = model.predict(X_test)\n",
        "\n",
        "  print('precision score GaussianNB = ', precision_score(y_test, y_pred))\n",
        "  print('recall score GaussianNB = ', recall_score(y_test, y_pred))\n",
        "  print('f1 score GaussianNB = ', f1_score(y_test, y_pred))\n",
        "  print('accuracy GaussianNB = ', accuracy_score(y_test, y_pred))"
      ],
      "metadata": {
        "colab": {
          "base_uri": "https://localhost:8080/"
        },
        "id": "0l6KOx1_NYH0",
        "outputId": "f5b28cca-9712-470f-f4da-e3d2faa1545b"
      },
      "execution_count": 5,
      "outputs": [
        {
          "output_type": "stream",
          "name": "stdout",
          "text": [
            "time =  0.3975250720977783\n",
            "precision score =  0.4060901607787779\n",
            "recall score =  0.6845813888803041\n",
            "f1 score =  0.5097809076682316\n",
            "accuracy =  0.8610475090836742\n",
            "time =  0.4336268901824951\n",
            "precision score =  0.40714777379270367\n",
            "recall score =  0.6875802997858672\n",
            "f1 score =  0.5114453444980431\n",
            "accuracy =  0.8599385506565687\n",
            "time =  0.2823669910430908\n",
            "precision score =  0.4031376407565322\n",
            "recall score =  0.6851330009599603\n",
            "f1 score =  0.5075996558646401\n",
            "accuracy =  0.8599939985779239\n"
          ]
        }
      ]
    },
    {
      "cell_type": "code",
      "source": [
        "for i in range(1, 4):\n",
        "  data_train = pd.read_csv(f'./lan{i}/train.csv')\n",
        "  data_test = pd.read_csv(f'./lan{i}/test.csv')\n",
        "\n",
        "  X_train, y_train = data_train.iloc[:,:-1], data_train.iloc[:,-1]\n",
        "  X_test, y_test = data_test.iloc[:,:-1], data_test.iloc[:,-1]\n",
        "\n",
        "  model = BernoulliNB()\n",
        "  start = time.time()\n",
        "  model.fit(X_train, y_train)\n",
        "  print('time = ', time.time()-start)\n",
        "\n",
        "  y_pred = model.predict(X_test)\n",
        "\n",
        "  print('precision score BernoulliNB = ', precision_score(y_test, y_pred))\n",
        "  print('recall score BernoulliNB = ', recall_score(y_test, y_pred))\n",
        "  print('f1 score BernoulliNB = ', f1_score(y_test, y_pred))\n",
        "  print('accuracy BernoulliNB = ', accuracy_score(y_test, y_pred))"
      ],
      "metadata": {
        "colab": {
          "base_uri": "https://localhost:8080/"
        },
        "id": "_rzaWPf1OiR0",
        "outputId": "139dae5b-dc30-416b-b3e0-8b1fc6c3f80b"
      },
      "execution_count": 6,
      "outputs": [
        {
          "output_type": "stream",
          "name": "stdout",
          "text": [
            "time =  0.34029340744018555\n",
            "precision score BernoulliNB =  0.48634346598324674\n",
            "recall score BernoulliNB =  0.6334023549772847\n",
            "f1 score BernoulliNB =  0.5502161131842465\n",
            "accuracy BernoulliNB =  0.8907088853663151\n",
            "time =  0.32691073417663574\n",
            "precision score BernoulliNB =  0.4847189269186497\n",
            "recall score BernoulliNB =  0.6312022025084124\n",
            "f1 score BernoulliNB =  0.5483463771774805\n",
            "accuracy BernoulliNB =  0.8891335120713386\n",
            "time =  0.32424283027648926\n",
            "precision score BernoulliNB =  0.47996210326859307\n",
            "recall score BernoulliNB =  0.6275044127210231\n",
            "f1 score BernoulliNB =  0.5439050903869124\n",
            "accuracy BernoulliNB =  0.8891530819259347\n"
          ]
        }
      ]
    },
    {
      "cell_type": "code",
      "source": [
        "for i in range(1, 4):\n",
        "  data_train = pd.read_csv(f'./lan{i}/train.csv')\n",
        "  data_test = pd.read_csv(f'./lan{i}/test.csv')\n",
        "\n",
        "  X_train, y_train = data_train.iloc[:,:-1], data_train.iloc[:,-1]\n",
        "  X_test, y_test = data_test.iloc[:,:-1], data_test.iloc[:,-1]\n",
        "\n",
        "  model = MultinomialNB()\n",
        "  start = time.time()\n",
        "  model.fit(X_train, y_train)\n",
        "  print('time = ', time.time()-start)\n",
        "\n",
        "  y_pred = model.predict(X_test)\n",
        "\n",
        "  print('precision score MultinomialNB = ', precision_score(y_test, y_pred))\n",
        "  print('recall score MultinomialNB = ', recall_score(y_test, y_pred))\n",
        "  print('f1 score MultinomialNB = ', f1_score(y_test, y_pred))\n",
        "  print('accuracy MultinomialNB = ', accuracy_score(y_test, y_pred))"
      ],
      "metadata": {
        "colab": {
          "base_uri": "https://localhost:8080/"
        },
        "id": "vB4N25jjOpZ9",
        "outputId": "a9560b86-2e81-4cdc-9695-4665cae908a5"
      },
      "execution_count": 7,
      "outputs": [
        {
          "output_type": "stream",
          "name": "stdout",
          "text": [
            "time =  0.17842435836791992\n",
            "precision score MultinomialNB =  0.4453621482828715\n",
            "recall score MultinomialNB =  0.643261118150632\n",
            "f1 score MultinomialNB =  0.5263237748444849\n",
            "accuracy MultinomialNB =  0.8778058279026987\n",
            "time =  0.16734528541564941\n",
            "precision score MultinomialNB =  0.44596916159409533\n",
            "recall score MultinomialNB =  0.643224227592536\n",
            "f1 score MultinomialNB =  0.5267350542967723\n",
            "accuracy MultinomialNB =  0.8767588406818138\n",
            "time =  0.17603135108947754\n",
            "precision score MultinomialNB =  0.44156314589503737\n",
            "recall score MultinomialNB =  0.641718019385006\n",
            "f1 score MultinomialNB =  0.5231495506412198\n",
            "accuracy MultinomialNB =  0.8767816721788424\n"
          ]
        }
      ]
    }
  ]
}